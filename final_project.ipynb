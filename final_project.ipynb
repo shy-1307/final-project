{
  "nbformat": 4,
  "nbformat_minor": 0,
  "metadata": {
    "colab": {
      "name": "final-project.ipynb",
      "provenance": []
    },
    "kernelspec": {
      "name": "python3",
      "display_name": "Python 3"
    }
  },
  "cells": [
    {
      "cell_type": "markdown",
      "metadata": {
        "id": "7E-kE4tGYfpM",
        "colab_type": "text"
      },
      "source": [
        "Initial Commit"
      ]
    },
    {
      "cell_type": "code",
      "metadata": {
        "id": "Q5x5rH1jYTv1",
        "colab_type": "code",
        "colab": {}
      },
      "source": [
        ""
      ],
      "execution_count": null,
      "outputs": []
    }
  ]
}